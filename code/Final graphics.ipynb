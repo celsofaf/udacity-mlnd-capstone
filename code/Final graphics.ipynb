{
 "cells": [
  {
   "cell_type": "markdown",
   "metadata": {},
   "source": [
    "The pourpose of this notebook is to generate the final graphics for my report, after every calculation was already done and the best model has been found.  \n",
    "\n",
    "Let's start by loading the necessary libraries and functions, as well as loading the original data and performing the same feature engineering."
   ]
  },
  {
   "cell_type": "code",
   "execution_count": 1,
   "metadata": {
    "collapsed": true
   },
   "outputs": [],
   "source": [
    "%matplotlib inline\n",
    "import numpy as np\n",
    "import pandas as pd\n",
    "from sklearn.ensemble import GradientBoostingRegressor, RandomForestRegressor, ExtraTreesRegressor\n",
    "from sklearn.grid_search import GridSearchCV, RandomizedSearchCV\n",
    "#import my_repository as my"
   ]
  },
  {
   "cell_type": "code",
   "execution_count": 2,
   "metadata": {
    "collapsed": true
   },
   "outputs": [],
   "source": [
    "original_data = pd.read_csv('../data/train.csv')\n",
    "data = original_data.copy()\n",
    "original_test = pd.read_csv('../data/test.csv')\n",
    "test = original_test.copy()"
   ]
  },
  {
   "cell_type": "code",
   "execution_count": 3,
   "metadata": {
    "collapsed": true
   },
   "outputs": [],
   "source": [
    "dropfeatures = ['Id', 'GarageYrBlt']#, 'YrSold', 'YearBuilt', 'YearRemodAdd'\n",
    "\n",
    "for neigh in set(data['Neighborhood']):\n",
    "    value = data[data['Neighborhood'] == neigh]['LotFrontage'].median()\n",
    "    data.loc[(data['Neighborhood'] == neigh) & (data['LotFrontage'].isnull()), 'LotFrontage'] = value\n",
    "    value = data[data['Neighborhood'] == neigh]['MasVnrArea'].median()\n",
    "    data.loc[(data['Neighborhood'] == neigh) & (data['MasVnrArea'].isnull()), 'MasVnrArea'] = value\n",
    "data['MSSubClass'] = data['MSSubClass'].astype(str)\n",
    "data = data.fillna('N/A')\n",
    "dataId = data['Id']\n",
    "prices = data['SalePrice']\n",
    "features = data.drop(dropfeatures, axis=1)\n",
    "features = features.drop('SalePrice', axis=1)\n",
    "features_before_dummies = features\n",
    "features = pd.get_dummies(features) #, drop_first=True)\n",
    "\n",
    "tlist = ['LotFrontage', 'MasVnrArea', 'BsmtFinSF1', 'BsmtFinSF2', 'BsmtUnfSF', 'TotalBsmtSF', 'GarageArea',\n",
    "         'BsmtFullBath', 'BsmtHalfBath', 'GarageCars', 'LotFrontage']\n",
    "for neigh in set(test['Neighborhood']):\n",
    "    for feature in tlist:\n",
    "        value = test[test['Neighborhood'] == neigh][feature].median()\n",
    "        test.loc[(test['Neighborhood'] == neigh) & (test[feature].isnull()), feature] = value\n",
    "test[tlist] = test[tlist].fillna(test[tlist].mean())\n",
    "test = test.fillna('N/A')\n",
    "test_id = test['Id']\n",
    "test_features = test.drop(dropfeatures, axis=1)\n",
    "test_features['MSSubClass'] = test_features['MSSubClass'].astype(str)\n",
    "test_features_before_dummies = test_features\n",
    "test_features = pd.get_dummies(test_features) #, drop_first=True)"
   ]
  },
  {
   "cell_type": "code",
   "execution_count": 4,
   "metadata": {
    "collapsed": false
   },
   "outputs": [
    {
     "name": "stdout",
     "output_type": "stream",
     "text": [
      "Series([], dtype: int64)\n",
      "Series([], dtype: int64)\n",
      "(1460, 317)\n",
      "(1459, 306)\n"
     ]
    }
   ],
   "source": [
    "dataNaN = data.isnull().sum()\n",
    "dataNaN = dataNaN[dataNaN > 0]\n",
    "testNaN = test.isnull().sum()\n",
    "testNaN = testNaN[testNaN > 0]\n",
    "\n",
    "print dataNaN\n",
    "print testNaN\n",
    "print features.shape\n",
    "print test_features.shape"
   ]
  },
  {
   "cell_type": "code",
   "execution_count": 5,
   "metadata": {
    "collapsed": false
   },
   "outputs": [
    {
     "name": "stdout",
     "output_type": "stream",
     "text": [
      "(1460, 298)\n",
      "(1459, 298)\n"
     ]
    }
   ],
   "source": [
    "dropfeat = list(set(features).difference(set(test_features)))\n",
    "features = features.drop(dropfeat, axis=1)\n",
    "dropfeat = list(set(test_features).difference(set(features)))\n",
    "test_features = test_features.drop(dropfeat, axis=1)\n",
    "print features.shape\n",
    "print test_features.shape"
   ]
  },
  {
   "cell_type": "code",
   "execution_count": 6,
   "metadata": {
    "collapsed": true
   },
   "outputs": [],
   "source": [
    "logSalePrice = np.log1p(prices)"
   ]
  },
  {
   "cell_type": "markdown",
   "metadata": {},
   "source": [
    "Now, let's fit the best model I found before to the training data."
   ]
  },
  {
   "cell_type": "code",
   "execution_count": 7,
   "metadata": {
    "collapsed": true
   },
   "outputs": [],
   "source": [
    "gbr_log_model = GradientBoostingRegressor(min_samples_split=7, loss='lad', n_estimators=2935, max_depth=4, random_state=666).fit(features, logSalePrice)"
   ]
  },
  {
   "cell_type": "markdown",
   "metadata": {},
   "source": [
    "Creating a dataframe containing the predicted and real values for the training data, as well as the pred/real values."
   ]
  },
  {
   "cell_type": "code",
   "execution_count": 8,
   "metadata": {
    "collapsed": false
   },
   "outputs": [
    {
     "data": {
      "text/html": [
       "<div>\n",
       "<table border=\"1\" class=\"dataframe\">\n",
       "  <thead>\n",
       "    <tr style=\"text-align: right;\">\n",
       "      <th></th>\n",
       "      <th>Id</th>\n",
       "      <th>pred</th>\n",
       "      <th>real</th>\n",
       "      <th>ratio</th>\n",
       "    </tr>\n",
       "  </thead>\n",
       "  <tbody>\n",
       "    <tr>\n",
       "      <th>0</th>\n",
       "      <td>1</td>\n",
       "      <td>208546.964059</td>\n",
       "      <td>208500</td>\n",
       "      <td>1.000225</td>\n",
       "    </tr>\n",
       "    <tr>\n",
       "      <th>1</th>\n",
       "      <td>2</td>\n",
       "      <td>181612.103698</td>\n",
       "      <td>181500</td>\n",
       "      <td>1.000618</td>\n",
       "    </tr>\n",
       "    <tr>\n",
       "      <th>2</th>\n",
       "      <td>3</td>\n",
       "      <td>216662.949020</td>\n",
       "      <td>223500</td>\n",
       "      <td>0.969409</td>\n",
       "    </tr>\n",
       "    <tr>\n",
       "      <th>3</th>\n",
       "      <td>4</td>\n",
       "      <td>140535.625333</td>\n",
       "      <td>140000</td>\n",
       "      <td>1.003826</td>\n",
       "    </tr>\n",
       "    <tr>\n",
       "      <th>4</th>\n",
       "      <td>5</td>\n",
       "      <td>276498.615006</td>\n",
       "      <td>250000</td>\n",
       "      <td>1.105994</td>\n",
       "    </tr>\n",
       "  </tbody>\n",
       "</table>\n",
       "</div>"
      ],
      "text/plain": [
       "   Id           pred    real     ratio\n",
       "0   1  208546.964059  208500  1.000225\n",
       "1   2  181612.103698  181500  1.000618\n",
       "2   3  216662.949020  223500  0.969409\n",
       "3   4  140535.625333  140000  1.003826\n",
       "4   5  276498.615006  250000  1.105994"
      ]
     },
     "execution_count": 8,
     "metadata": {},
     "output_type": "execute_result"
    }
   ],
   "source": [
    "preds = np.exp(gbr_log_model.predict(features)) - 1\n",
    "real = data['SalePrice']\n",
    "predreal = pd.DataFrame({'Id': data['Id'], 'real': real, 'pred': preds, 'ratio': preds / real}, columns=['Id', 'pred', 'real', 'ratio'])\n",
    "predreal.head()"
   ]
  },
  {
   "cell_type": "markdown",
   "metadata": {},
   "source": [
    "How many of the data points were predicted with a maximum relative error of 20% (up or down)? 10%? 5%?"
   ]
  },
  {
   "cell_type": "code",
   "execution_count": 9,
   "metadata": {
    "collapsed": false
   },
   "outputs": [
    {
     "name": "stdout",
     "output_type": "stream",
     "text": [
      "0.983561643836\n",
      "0.941780821918\n",
      "0.834931506849\n"
     ]
    }
   ],
   "source": [
    "ratio = predreal['ratio']\n",
    "print len(ratio[(ratio >= 0.8) & (ratio <= 1.2)]) / float(len(ratio))\n",
    "print len(ratio[(ratio >= 0.9) & (ratio <= 1.1)]) / float(len(ratio))\n",
    "print len(ratio[(ratio >= 0.95) & (ratio <= 1.05)]) / float(len(ratio))"
   ]
  },
  {
   "cell_type": "markdown",
   "metadata": {},
   "source": [
    "Graphically, how do we compare predicted vs real values?"
   ]
  },
  {
   "cell_type": "code",
   "execution_count": 10,
   "metadata": {
    "collapsed": false
   },
   "outputs": [
    {
     "data": {
      "image/png": "[encoded data removed]",
      "text/plain": [
       "<matplotlib.figure.Figure at 0xe5df080>"
      ]
     },
     "metadata": {},
     "output_type": "display_data"
    }
   ],
   "source": [
    "predreal_plot_1 = predreal.plot(x='real', y='pred', kind='scatter', title='GBR: predicted vs real values', xlim=(0, 800000), ylim=(0, 800000), grid=True, figsize=(5, 5), fontsize=7)\n",
    "fig = predreal_plot_1.get_figure()\n",
    "fig.savefig('../fig/predreal_plot_1.png')"
   ]
  },
  {
   "cell_type": "markdown",
   "metadata": {},
   "source": [
    "This is a better way, because for this problem relative error is more important than absolute error."
   ]
  },
  {
   "cell_type": "code",
   "execution_count": 11,
   "metadata": {
    "collapsed": false
   },
   "outputs": [
    {
     "data": {
      "image/png": "[encoded data removed]",
      "text/plain": [
       "<matplotlib.figure.Figure at 0xe782390>"
      ]
     },
     "metadata": {},
     "output_type": "display_data"
    }
   ],
   "source": [
    "predreal_plot_2 = predreal.plot(x='Id', y='ratio', kind='scatter', title='GBR: ratio of predicted/real values', xlim=(0, 1500), grid=True, figsize=(5, 3), fontsize=7)\n",
    "fig = predreal_plot_2.get_figure()\n",
    "fig.savefig('../fig/predreal_plot_2.png')"
   ]
  },
  {
   "cell_type": "markdown",
   "metadata": {},
   "source": [
    "What are the most important input variables, according to our model?"
   ]
  },
  {
   "cell_type": "code",
   "execution_count": 12,
   "metadata": {
    "collapsed": false
   },
   "outputs": [],
   "source": [
    "#gbr_log_model.feature_importances_\n",
    "list(features.columns)\n",
    "importances = pd.DataFrame({'feature': features.columns, 'importance': gbr_log_model.feature_importances_})"
   ]
  },
  {
   "cell_type": "code",
   "execution_count": 13,
   "metadata": {
    "collapsed": false
   },
   "outputs": [
    {
     "data": {
      "text/html": [
       "<div>\n",
       "<table border=\"1\" class=\"dataframe\">\n",
       "  <thead>\n",
       "    <tr style=\"text-align: right;\">\n",
       "      <th></th>\n",
       "      <th>feature</th>\n",
       "      <th>importance</th>\n",
       "    </tr>\n",
       "  </thead>\n",
       "  <tbody>\n",
       "    <tr>\n",
       "      <th>14</th>\n",
       "      <td>GrLivArea</td>\n",
       "      <td>0.061795</td>\n",
       "    </tr>\n",
       "    <tr>\n",
       "      <th>26</th>\n",
       "      <td>OpenPorchSF</td>\n",
       "      <td>0.057310</td>\n",
       "    </tr>\n",
       "    <tr>\n",
       "      <th>10</th>\n",
       "      <td>TotalBsmtSF</td>\n",
       "      <td>0.054382</td>\n",
       "    </tr>\n",
       "    <tr>\n",
       "      <th>12</th>\n",
       "      <td>2ndFlrSF</td>\n",
       "      <td>0.049577</td>\n",
       "    </tr>\n",
       "    <tr>\n",
       "      <th>6</th>\n",
       "      <td>MasVnrArea</td>\n",
       "      <td>0.049289</td>\n",
       "    </tr>\n",
       "    <tr>\n",
       "      <th>11</th>\n",
       "      <td>1stFlrSF</td>\n",
       "      <td>0.048879</td>\n",
       "    </tr>\n",
       "    <tr>\n",
       "      <th>27</th>\n",
       "      <td>EnclosedPorch</td>\n",
       "      <td>0.047717</td>\n",
       "    </tr>\n",
       "    <tr>\n",
       "      <th>25</th>\n",
       "      <td>WoodDeckSF</td>\n",
       "      <td>0.040899</td>\n",
       "    </tr>\n",
       "    <tr>\n",
       "      <th>1</th>\n",
       "      <td>LotArea</td>\n",
       "      <td>0.040034</td>\n",
       "    </tr>\n",
       "    <tr>\n",
       "      <th>24</th>\n",
       "      <td>GarageArea</td>\n",
       "      <td>0.036587</td>\n",
       "    </tr>\n",
       "    <tr>\n",
       "      <th>7</th>\n",
       "      <td>BsmtFinSF1</td>\n",
       "      <td>0.036156</td>\n",
       "    </tr>\n",
       "    <tr>\n",
       "      <th>0</th>\n",
       "      <td>LotFrontage</td>\n",
       "      <td>0.032437</td>\n",
       "    </tr>\n",
       "    <tr>\n",
       "      <th>9</th>\n",
       "      <td>BsmtUnfSF</td>\n",
       "      <td>0.027744</td>\n",
       "    </tr>\n",
       "    <tr>\n",
       "      <th>4</th>\n",
       "      <td>YearBuilt</td>\n",
       "      <td>0.021449</td>\n",
       "    </tr>\n",
       "    <tr>\n",
       "      <th>29</th>\n",
       "      <td>ScreenPorch</td>\n",
       "      <td>0.019101</td>\n",
       "    </tr>\n",
       "  </tbody>\n",
       "</table>\n",
       "</div>"
      ],
      "text/plain": [
       "          feature  importance\n",
       "14      GrLivArea    0.061795\n",
       "26    OpenPorchSF    0.057310\n",
       "10    TotalBsmtSF    0.054382\n",
       "12       2ndFlrSF    0.049577\n",
       "6      MasVnrArea    0.049289\n",
       "11       1stFlrSF    0.048879\n",
       "27  EnclosedPorch    0.047717\n",
       "25     WoodDeckSF    0.040899\n",
       "1         LotArea    0.040034\n",
       "24     GarageArea    0.036587\n",
       "7      BsmtFinSF1    0.036156\n",
       "0     LotFrontage    0.032437\n",
       "9       BsmtUnfSF    0.027744\n",
       "4       YearBuilt    0.021449\n",
       "29    ScreenPorch    0.019101"
      ]
     },
     "execution_count": 13,
     "metadata": {},
     "output_type": "execute_result"
    }
   ],
   "source": [
    "importances.sort_values(by='importance', ascending=False).head(15)"
   ]
  },
  {
   "cell_type": "code",
   "execution_count": 14,
   "metadata": {
    "collapsed": false
   },
   "outputs": [],
   "source": [
    "importances.sort_values(by='importance', ascending=False).head(15).to_csv('gbr_important_features.csv')"
   ]
  },
  {
   "cell_type": "markdown",
   "metadata": {},
   "source": [
    "And what about the least important ones?"
   ]
  },
  {
   "cell_type": "code",
   "execution_count": 15,
   "metadata": {
    "collapsed": false
   },
   "outputs": [
    {
     "data": {
      "text/html": [
       "<div>\n",
       "<table border=\"1\" class=\"dataframe\">\n",
       "  <thead>\n",
       "    <tr style=\"text-align: right;\">\n",
       "      <th></th>\n",
       "      <th>feature</th>\n",
       "      <th>importance</th>\n",
       "    </tr>\n",
       "  </thead>\n",
       "  <tbody>\n",
       "    <tr>\n",
       "      <th>118</th>\n",
       "      <td>BldgType_Twnhs</td>\n",
       "      <td>0.000032</td>\n",
       "    </tr>\n",
       "    <tr>\n",
       "      <th>192</th>\n",
       "      <td>BsmtCond_N/A</td>\n",
       "      <td>0.000000</td>\n",
       "    </tr>\n",
       "    <tr>\n",
       "      <th>193</th>\n",
       "      <td>BsmtCond_Po</td>\n",
       "      <td>0.000000</td>\n",
       "    </tr>\n",
       "    <tr>\n",
       "      <th>198</th>\n",
       "      <td>BsmtExposure_N/A</td>\n",
       "      <td>0.000028</td>\n",
       "    </tr>\n",
       "    <tr>\n",
       "      <th>204</th>\n",
       "      <td>BsmtFinType1_N/A</td>\n",
       "      <td>0.000042</td>\n",
       "    </tr>\n",
       "    <tr>\n",
       "      <th>188</th>\n",
       "      <td>BsmtQual_N/A</td>\n",
       "      <td>0.000068</td>\n",
       "    </tr>\n",
       "    <tr>\n",
       "      <th>108</th>\n",
       "      <td>Condition1_RRNe</td>\n",
       "      <td>0.000000</td>\n",
       "    </tr>\n",
       "    <tr>\n",
       "      <th>110</th>\n",
       "      <td>Condition2_Artery</td>\n",
       "      <td>0.000000</td>\n",
       "    </tr>\n",
       "    <tr>\n",
       "      <th>111</th>\n",
       "      <td>Condition2_Feedr</td>\n",
       "      <td>0.000071</td>\n",
       "    </tr>\n",
       "    <tr>\n",
       "      <th>113</th>\n",
       "      <td>Condition2_PosA</td>\n",
       "      <td>0.000074</td>\n",
       "    </tr>\n",
       "    <tr>\n",
       "      <th>177</th>\n",
       "      <td>ExterCond_Po</td>\n",
       "      <td>0.000000</td>\n",
       "    </tr>\n",
       "    <tr>\n",
       "      <th>138</th>\n",
       "      <td>Exterior1st_AsphShn</td>\n",
       "      <td>0.000000</td>\n",
       "    </tr>\n",
       "    <tr>\n",
       "      <th>139</th>\n",
       "      <td>Exterior1st_BrkComm</td>\n",
       "      <td>0.000000</td>\n",
       "    </tr>\n",
       "    <tr>\n",
       "      <th>141</th>\n",
       "      <td>Exterior1st_CBlock</td>\n",
       "      <td>0.000000</td>\n",
       "    </tr>\n",
       "    <tr>\n",
       "      <th>152</th>\n",
       "      <td>Exterior2nd_Brk Cmn</td>\n",
       "      <td>0.000069</td>\n",
       "    </tr>\n",
       "    <tr>\n",
       "      <th>154</th>\n",
       "      <td>Exterior2nd_CBlock</td>\n",
       "      <td>0.000000</td>\n",
       "    </tr>\n",
       "    <tr>\n",
       "      <th>238</th>\n",
       "      <td>Functional_Sev</td>\n",
       "      <td>0.000000</td>\n",
       "    </tr>\n",
       "    <tr>\n",
       "      <th>262</th>\n",
       "      <td>GarageCond_Ex</td>\n",
       "      <td>0.000000</td>\n",
       "    </tr>\n",
       "    <tr>\n",
       "      <th>264</th>\n",
       "      <td>GarageCond_Gd</td>\n",
       "      <td>0.000000</td>\n",
       "    </tr>\n",
       "    <tr>\n",
       "      <th>221</th>\n",
       "      <td>HeatingQC_Po</td>\n",
       "      <td>0.000000</td>\n",
       "    </tr>\n",
       "    <tr>\n",
       "      <th>217</th>\n",
       "      <td>Heating_Wall</td>\n",
       "      <td>0.000073</td>\n",
       "    </tr>\n",
       "    <tr>\n",
       "      <th>71</th>\n",
       "      <td>LotConfig_FR3</td>\n",
       "      <td>0.000032</td>\n",
       "    </tr>\n",
       "    <tr>\n",
       "      <th>35</th>\n",
       "      <td>MSSubClass_160</td>\n",
       "      <td>0.000028</td>\n",
       "    </tr>\n",
       "    <tr>\n",
       "      <th>36</th>\n",
       "      <td>MSSubClass_180</td>\n",
       "      <td>0.000095</td>\n",
       "    </tr>\n",
       "    <tr>\n",
       "      <th>40</th>\n",
       "      <td>MSSubClass_40</td>\n",
       "      <td>0.000055</td>\n",
       "    </tr>\n",
       "    <tr>\n",
       "      <th>41</th>\n",
       "      <td>MSSubClass_45</td>\n",
       "      <td>0.000000</td>\n",
       "    </tr>\n",
       "    <tr>\n",
       "      <th>47</th>\n",
       "      <td>MSSubClass_85</td>\n",
       "      <td>0.000038</td>\n",
       "    </tr>\n",
       "    <tr>\n",
       "      <th>279</th>\n",
       "      <td>MiscFeature_Gar2</td>\n",
       "      <td>0.000002</td>\n",
       "    </tr>\n",
       "    <tr>\n",
       "      <th>281</th>\n",
       "      <td>MiscFeature_Othr</td>\n",
       "      <td>0.000022</td>\n",
       "    </tr>\n",
       "    <tr>\n",
       "      <th>76</th>\n",
       "      <td>Neighborhood_Blmngtn</td>\n",
       "      <td>0.000000</td>\n",
       "    </tr>\n",
       "    <tr>\n",
       "      <th>77</th>\n",
       "      <td>Neighborhood_Blueste</td>\n",
       "      <td>0.000000</td>\n",
       "    </tr>\n",
       "    <tr>\n",
       "      <th>78</th>\n",
       "      <td>Neighborhood_BrDale</td>\n",
       "      <td>0.000000</td>\n",
       "    </tr>\n",
       "    <tr>\n",
       "      <th>89</th>\n",
       "      <td>Neighborhood_NPkVill</td>\n",
       "      <td>0.000000</td>\n",
       "    </tr>\n",
       "    <tr>\n",
       "      <th>129</th>\n",
       "      <td>RoofStyle_Gambrel</td>\n",
       "      <td>0.000067</td>\n",
       "    </tr>\n",
       "    <tr>\n",
       "      <th>132</th>\n",
       "      <td>RoofStyle_Shed</td>\n",
       "      <td>0.000000</td>\n",
       "    </tr>\n",
       "    <tr>\n",
       "      <th>293</th>\n",
       "      <td>SaleCondition_AdjLand</td>\n",
       "      <td>0.000026</td>\n",
       "    </tr>\n",
       "    <tr>\n",
       "      <th>285</th>\n",
       "      <td>SaleType_Con</td>\n",
       "      <td>0.000000</td>\n",
       "    </tr>\n",
       "    <tr>\n",
       "      <th>290</th>\n",
       "      <td>SaleType_Oth</td>\n",
       "      <td>0.000000</td>\n",
       "    </tr>\n",
       "    <tr>\n",
       "      <th>67</th>\n",
       "      <td>Utilities_AllPub</td>\n",
       "      <td>0.000000</td>\n",
       "    </tr>\n",
       "  </tbody>\n",
       "</table>\n",
       "</div>"
      ],
      "text/plain": [
       "                   feature  importance\n",
       "118         BldgType_Twnhs    0.000032\n",
       "192           BsmtCond_N/A    0.000000\n",
       "193            BsmtCond_Po    0.000000\n",
       "198       BsmtExposure_N/A    0.000028\n",
       "204       BsmtFinType1_N/A    0.000042\n",
       "188           BsmtQual_N/A    0.000068\n",
       "108        Condition1_RRNe    0.000000\n",
       "110      Condition2_Artery    0.000000\n",
       "111       Condition2_Feedr    0.000071\n",
       "113        Condition2_PosA    0.000074\n",
       "177           ExterCond_Po    0.000000\n",
       "138    Exterior1st_AsphShn    0.000000\n",
       "139    Exterior1st_BrkComm    0.000000\n",
       "141     Exterior1st_CBlock    0.000000\n",
       "152    Exterior2nd_Brk Cmn    0.000069\n",
       "154     Exterior2nd_CBlock    0.000000\n",
       "238         Functional_Sev    0.000000\n",
       "262          GarageCond_Ex    0.000000\n",
       "264          GarageCond_Gd    0.000000\n",
       "221           HeatingQC_Po    0.000000\n",
       "217           Heating_Wall    0.000073\n",
       "71           LotConfig_FR3    0.000032\n",
       "35          MSSubClass_160    0.000028\n",
       "36          MSSubClass_180    0.000095\n",
       "40           MSSubClass_40    0.000055\n",
       "41           MSSubClass_45    0.000000\n",
       "47           MSSubClass_85    0.000038\n",
       "279       MiscFeature_Gar2    0.000002\n",
       "281       MiscFeature_Othr    0.000022\n",
       "76    Neighborhood_Blmngtn    0.000000\n",
       "77    Neighborhood_Blueste    0.000000\n",
       "78     Neighborhood_BrDale    0.000000\n",
       "89    Neighborhood_NPkVill    0.000000\n",
       "129      RoofStyle_Gambrel    0.000067\n",
       "132         RoofStyle_Shed    0.000000\n",
       "293  SaleCondition_AdjLand    0.000026\n",
       "285           SaleType_Con    0.000000\n",
       "290           SaleType_Oth    0.000000\n",
       "67        Utilities_AllPub    0.000000"
      ]
     },
     "execution_count": 15,
     "metadata": {},
     "output_type": "execute_result"
    }
   ],
   "source": [
    "importances[importances['importance'] <= 0.0001].sort_values(by='feature')"
   ]
  },
  {
   "cell_type": "code",
   "execution_count": 16,
   "metadata": {
    "collapsed": true
   },
   "outputs": [],
   "source": [
    "importances[importances['importance'] <= 0.0001].sort_values(by='feature').to_csv('gbr_unimportant_features.csv')"
   ]
  },
  {
   "cell_type": "code",
   "execution_count": null,
   "metadata": {
    "collapsed": true
   },
   "outputs": [],
   "source": []
  }
 ],
 "metadata": {
  "anaconda-cloud": {},
  "kernelspec": {
   "display_name": "Python [default]",
   "language": "python",
   "name": "python2"
  },
  "language_info": {
   "codemirror_mode": {
    "name": "ipython",
    "version": 2
   },
   "file_extension": ".py",
   "mimetype": "text/x-python",
   "name": "python",
   "nbconvert_exporter": "python",
   "pygments_lexer": "ipython2",
   "version": "2.7.12"
  }
 },
 "nbformat": 4,
 "nbformat_minor": 1
}
